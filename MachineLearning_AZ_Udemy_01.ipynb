{
  "nbformat": 4,
  "nbformat_minor": 0,
  "metadata": {
    "colab": {
      "provenance": [],
      "include_colab_link": true
    },
    "kernelspec": {
      "name": "python3",
      "display_name": "Python 3"
    }
  },
  "cells": [
    {
      "cell_type": "markdown",
      "metadata": {
        "id": "view-in-github",
        "colab_type": "text"
      },
      "source": [
        "<a href=\"https://colab.research.google.com/github/Maginador/AI_Study/blob/main/MachineLearning_AZ_Udemy_01.ipynb\" target=\"_parent\"><img src=\"https://colab.research.google.com/assets/colab-badge.svg\" alt=\"Open In Colab\"/></a>"
      ]
    },
    {
      "cell_type": "markdown",
      "metadata": {
        "id": "37puETfgRzzg"
      },
      "source": [
        "# Data Preprocessing Tools"
      ]
    },
    {
      "cell_type": "markdown",
      "metadata": {
        "id": "EoRP98MpR-qj"
      },
      "source": [
        "## Importing the libraries"
      ]
    },
    {
      "cell_type": "code",
      "source": [
        "# Importing the libraries\n",
        "import numpy as np\n",
        "import matplotlib.pyplot as plt\n",
        "import pandas as pd"
      ],
      "metadata": {
        "id": "Z96BPeS6bMcd"
      },
      "execution_count": null,
      "outputs": []
    },
    {
      "cell_type": "markdown",
      "metadata": {
        "id": "RopL7tUZSQkT"
      },
      "source": [
        "## Importing the dataset"
      ]
    },
    {
      "cell_type": "code",
      "source": [
        "# Importing the dataset\n",
        "dataset = pd.read_csv('Data.csv') # Read the CSV file into a pandas DataFrame\n",
        "X = dataset.iloc [:, :-1] # Select all rows and all columns except the last one for the independent variables (features)\n",
        "y = dataset.iloc [:, -1] # Select all rows and only the last column for the dependent variable (target)"
      ],
      "metadata": {
        "id": "JpmOs54AbbLv"
      },
      "execution_count": null,
      "outputs": []
    },
    {
      "cell_type": "code",
      "source": [
        "# Print the independent variables (features)\n",
        "print (X)\n",
        "# Print the dependent variable (target)\n",
        "print (y)"
      ],
      "metadata": {
        "id": "vS2IumxLpTMZ"
      },
      "execution_count": null,
      "outputs": []
    },
    {
      "cell_type": "markdown",
      "metadata": {
        "id": "nhfKXNxlSabC"
      },
      "source": [
        "## Taking care of missing data"
      ]
    },
    {
      "cell_type": "code",
      "source": [
        "# Taking care of missing data\n",
        "from sklearn.impute import SimpleImputer # Import the SimpleImputer class\n",
        "# Create a SimpleImputer object with strategy 'mean' to replace missing values (NaN) with the mean of the column\n",
        "imputer = SimpleImputer(missing_values=np.nan, strategy='mean')\n",
        "# Fit the imputer to the columns with missing data (columns 1 and 2, which are the second and third columns)\n",
        "imputer.fit(X[:, 1:3])\n",
        "# Transform the selected columns by replacing missing values with the calculated mean\n",
        "X[:, 1:3] = imputer.transform(X[:, 1:3])"
      ],
      "metadata": {
        "id": "mvuc6euJMiag"
      },
      "execution_count": null,
      "outputs": []
    },
    {
      "cell_type": "markdown",
      "metadata": {
        "id": "CriG6VzVSjcK"
      },
      "source": [
        "## Encoding categorical data"
      ]
    },
    {
      "cell_type": "markdown",
      "metadata": {
        "id": "AhSpdQWeSsFh"
      },
      "source": [
        "### Encoding the Independent Variable"
      ]
    },
    {
      "cell_type": "code",
      "source": [
        "# Encoding categorical data - Encoding the Independent Variable\n",
        "from sklearn.compose import ColumnTransformer # Import ColumnTransformer\n",
        "from sklearn.preprocessing import OneHotEncoder # Import OneHotEncoder\n",
        "# Create a ColumnTransformer object\n",
        "# 'encoder': applies OneHotEncoder to the first column (index 0)\n",
        "# remainder='passthrough': keeps the remaining columns as they are\n",
        "ct = ColumnTransformer(transformers=[('encoder', OneHotEncoder(), [0])], remainder='passthrough')\n",
        "# Fit and transform the independent variables (X)\n",
        "X = np.array (ct.fit_transform(X))"
      ],
      "metadata": {
        "id": "y3yY3-i7VJvb"
      },
      "execution_count": null,
      "outputs": []
    },
    {
      "cell_type": "code",
      "source": [
        "# Print the independent variables after encoding\n",
        "print(X)"
      ],
      "metadata": {
        "id": "T7u6nXz9Vtx1"
      },
      "execution_count": null,
      "outputs": []
    },
    {
      "cell_type": "markdown",
      "metadata": {
        "id": "DXh8oVSITIc6"
      },
      "source": [
        "### Encoding the Dependent Variable"
      ]
    },
    {
      "cell_type": "code",
      "source": [
        "# Encoding categorical data - Encoding the Dependent Variable\n",
        "from sklearn.preprocessing import LabelEncoder # Import LabelEncoder\n",
        "# Create a LabelEncoder object\n",
        "le = LabelEncoder()\n",
        "# Fit and transform the dependent variable (y)\n",
        "y = le.fit_transform(y)"
      ],
      "metadata": {
        "id": "tv3uqjryVu7-"
      },
      "execution_count": null,
      "outputs": []
    },
    {
      "cell_type": "code",
      "source": [
        "# Print the dependent variable after encoding\n",
        "print(y)"
      ],
      "metadata": {
        "id": "9jk5-HfKV1kn"
      },
      "execution_count": null,
      "outputs": []
    },
    {
      "cell_type": "markdown",
      "metadata": {
        "id": "qb_vcgm3qZKW"
      },
      "source": [
        "## Splitting the dataset into the Training set and Test set"
      ]
    },
    {
      "cell_type": "code",
      "source": [
        "# Splitting the dataset into the Training set and Test set\n",
        "from sklearn.model_selection import train_test_split # Import train_test_split\n",
        "# Split the dataset into training and testing sets\n",
        "# test_size=0.2: allocate 20% of the data to the test set\n",
        "# random_state=1: set a random seed for reproducibility\n",
        "X_train, X_test, y_train, y_test = train_test_split(X, y, test_size = 0.2, random_state = 1)"
      ],
      "metadata": {
        "id": "lipqzvZhV3Yz"
      },
      "execution_count": null,
      "outputs": []
    },
    {
      "cell_type": "code",
      "source": [
        "# Print the training and testing sets\n",
        "print(X_train)\n",
        "print(X_test)\n",
        "print(y_train)\n",
        "print(y_test)"
      ],
      "metadata": {
        "id": "6nEk9E6dV50g"
      },
      "execution_count": null,
      "outputs": []
    },
    {
      "cell_type": "markdown",
      "metadata": {
        "id": "TpGqbS4TqkIR"
      },
      "source": [
        "## Feature Scaling"
      ]
    },
    {
      "cell_type": "code",
      "source": [
        "# Feature Scaling\n",
        "from sklearn.preprocessing import StandardScaler # Import StandardScaler\n",
        "# Create a StandardScaler object\n",
        "sc = StandardScaler()\n",
        "# Fit the scaler to the training set and transform it\n",
        "X_train = sc.fit_transform(X_train)\n",
        "# Transform the test set using the same scaler (only transform, not fit)\n",
        "X_test = sc.transform(X_test)"
      ],
      "metadata": {
        "id": "aEa893IWV-Qp"
      },
      "execution_count": null,
      "outputs": []
    },
    {
      "cell_type": "code",
      "source": [
        "# Print the scaled training and testing sets\n",
        "print(X_train)\n",
        "print(X_test)"
      ],
      "metadata": {
        "id": "jdR22eAmWH2M"
      },
      "execution_count": null,
      "outputs": []
    }
  ]
}