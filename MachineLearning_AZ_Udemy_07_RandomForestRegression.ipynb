{
  "nbformat": 4,
  "nbformat_minor": 0,
  "metadata": {
    "colab": {
      "provenance": [],
      "include_colab_link": true
    },
    "kernelspec": {
      "name": "python3",
      "display_name": "Python 3"
    }
  },
  "cells": [
    {
      "cell_type": "markdown",
      "metadata": {
        "id": "view-in-github",
        "colab_type": "text"
      },
      "source": [
        "<a href=\"https://colab.research.google.com/github/Maginador/AI_Study/blob/main/MachineLearning_AZ_Udemy_07_RandomForestRegression.ipynb\" target=\"_parent\"><img src=\"https://colab.research.google.com/assets/colab-badge.svg\" alt=\"Open In Colab\"/></a>"
      ]
    },
    {
      "cell_type": "markdown",
      "metadata": {
        "id": "LeamvpPVXuS_"
      },
      "source": [
        "# Random Forest Regression"
      ]
    },
    {
      "cell_type": "markdown",
      "metadata": {
        "id": "O2wvZ7SKXzVC"
      },
      "source": [
        "## Importing the libraries"
      ]
    },
    {
      "cell_type": "code",
      "source": [
        "import numpy as np # Importing the numpy library for numerical operations\n",
        "import matplotlib.pyplot as plt # Importing the matplotlib library for plotting\n",
        "import pandas as pd # Importing the pandas library for data manipulation"
      ],
      "metadata": {
        "id": "T7RJ1Un_Q7-e"
      },
      "execution_count": null,
      "outputs": []
    },
    {
      "cell_type": "markdown",
      "metadata": {
        "id": "zgbK_F8-X7em"
      },
      "source": [
        "## Importing the dataset"
      ]
    },
    {
      "cell_type": "code",
      "source": [
        "dataset = pd.read_csv('https://raw.githubusercontent.com/Maginador/AI_Study/refs/heads/main/Position_Salaries.csv') # Reading the dataset from the given URL into a pandas DataFrame\n",
        "X = dataset.iloc[:, 1:-1].values # Extracting the features (independent variables) from the DataFrame\n",
        "y = dataset.iloc[:, -1].values # Extracting the target variable (dependent variable) from the DataFrame"
      ],
      "metadata": {
        "id": "y8mDxYXaRB67"
      },
      "execution_count": null,
      "outputs": []
    },
    {
      "cell_type": "markdown",
      "metadata": {
        "id": "v4S2fyIBYDcu"
      },
      "source": [
        "## Training the Random Forest Regression model on the whole dataset"
      ]
    },
    {
      "cell_type": "code",
      "source": [
        "from sklearn.ensemble import RandomForestRegressor # Importing the RandomForestRegressor class from scikit-learn\n",
        "regressor = RandomForestRegressor(n_estimators = 10, random_state = 0) # Creating a Random Forest Regressor model with 10 trees and a random state of 0\n",
        "regressor.fit(X, y) # Training the model on the entire dataset"
      ],
      "metadata": {
        "id": "tX-5rVJXRFg7"
      },
      "execution_count": null,
      "outputs": []
    },
    {
      "cell_type": "markdown",
      "metadata": {
        "id": "8IbsXbK3YM4M"
      },
      "source": [
        "## Predicting a new result"
      ]
    },
    {
      "cell_type": "code",
      "source": [
        "regressor.predict([[6.5]]) # Predicting the salary for a position level of 6.5 using the trained model"
      ],
      "metadata": {
        "id": "o4ohlY59RHaQ"
      },
      "execution_count": null,
      "outputs": []
    },
    {
      "cell_type": "markdown",
      "metadata": {
        "id": "kLqF9yMbYTon"
      },
      "source": [
        "## Visualising the Random Forest Regression results (higher resolution)"
      ]
    },
    {
      "cell_type": "code",
      "source": [
        "X_grid = np.arange(min(X), max(X), 0.01) # Creating a grid of values from the minimum to the maximum of X with a step of 0.01\n",
        "X_grid = X_grid.reshape((len(X_grid), 1)) # Reshaping the grid to be a column vector\n",
        "plt.scatter(X, y, color = 'red') # Plotting the actual data points as a scatter plot in red\n",
        "plt.plot(X_grid, regressor.predict(X_grid), color = 'blue') # Plotting the predicted values from the model on the grid as a blue line\n",
        "plt.title('Truth or Bluff (Random Forest Regression)') # Setting the title of the plot\n",
        "plt.xlabel('Position level') # Setting the label for the x-axis\n",
        "plt.ylabel('Salary') # Setting the label for the y-axis\n",
        "plt.show() # Displaying the plot"
      ],
      "metadata": {
        "id": "EpH6-HC1RGtO"
      },
      "execution_count": null,
      "outputs": []
    }
  ]
}